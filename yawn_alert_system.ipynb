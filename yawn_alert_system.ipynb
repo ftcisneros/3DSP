{
 "cells": [
  {
   "cell_type": "code",
   "execution_count": null,
   "id": "67873778",
   "metadata": {
    "scrolled": true
   },
   "outputs": [],
   "source": [
    "!pip install torch torchvision torchaudio"
   ]
  },
  {
   "cell_type": "code",
   "execution_count": null,
   "id": "7ec1a5de",
   "metadata": {
    "scrolled": true
   },
   "outputs": [],
   "source": [
    "!pip install opencv-python"
   ]
  },
  {
   "cell_type": "code",
   "execution_count": null,
   "id": "a98f8eab",
   "metadata": {},
   "outputs": [],
   "source": [
    "!pip install pyodbc"
   ]
  },
  {
   "cell_type": "code",
   "execution_count": null,
   "id": "9ae8c13b",
   "metadata": {},
   "outputs": [],
   "source": [
    "# Clone YOLOv5 repo if not already cloned\n",
    "\n",
    "import os\n",
    "\n",
    "if not os.path.exists('yolov5'):\n",
    "    !git clone https://github.com/ultralytics/yolov5\n",
    "    %cd yolov5\n",
    "    !pip install -r requirements.txt\n",
    "    %cd ..\n",
    "else:\n",
    "    print(\"YOLOv5 repo already exists.\")\n",
    "    \n",
    "if not os.path.exists('yolov5/runs'):\n",
    "    os.rename('runs', 'yolov5/runs')"
   ]
  },
  {
   "cell_type": "code",
   "execution_count": null,
   "id": "cc9a08b9",
   "metadata": {},
   "outputs": [],
   "source": [
    "import torch\n",
    "import cv2\n",
    "import time\n",
    "from Alert import alert_notification  # Import alert system\n",
    "\n",
    "# Load custom trained YOLOv5 model\n",
    "model = torch.hub.load('yolov5', 'custom', path='yolov5/runs/train/yawn-detection7/weights/best.pt', source='local')\n",
    "model.conf = 0.5  # Confidence threshold\n",
    "\n",
    "# Set driver name\n",
    "driver_name = \"Driver_1\"  \n",
    "\n",
    "# Open webcam\n",
    "cap = cv2.VideoCapture(0)\n",
    "\n",
    "# Cooldown to avoid spamming multiple alerts for the same yawn\n",
    "alert_cooldown = 5  \n",
    "last_alert_time = 0\n",
    "\n",
    "while True:\n",
    "    ret, frame = cap.read()\n",
    "    if not ret:\n",
    "        break\n",
    "    \n",
    "    results = model(cv2.cvtColor(frame, cv2.COLOR_BGR2RGB))\n",
    "\n",
    "    for det in results.xyxy[0]:  # detections per image\n",
    "        class_id = int(det[5])  # 5th index is class\n",
    "        confidence = float(det[4])  # 4th index is confidence\n",
    "        if model.names[class_id] == 'Yawn':\n",
    "            current_time = time.time()\n",
    "            if current_time - last_alert_time > alert_cooldown:\n",
    "                print(\"Yawn detected! Sending alert...\")\n",
    "                alert_notification(driver_name)\n",
    "                last_alert_time = current_time\n",
    "\n",
    "            # Draw box\n",
    "            x1, y1, x2, y2 = map(int, det[:4])\n",
    "            cv2.rectangle(frame, (x1, y1), (x2, y2), (0, 0, 255), 2)\n",
    "            cv2.putText(frame, 'Yawn', (x1, y1-10), cv2.FONT_HERSHEY_SIMPLEX, 0.9, (0, 0, 255), 2)\n",
    "\n",
    "    # Show live feed\n",
    "    cv2.imshow('3DSP Driver Monitoring', frame)\n",
    "\n",
    "    # Press 'q' to quit\n",
    "    if cv2.waitKey(1) & 0xFF == ord('q'):\n",
    "        break\n",
    "\n",
    "cap.release()\n",
    "cv2.destroyAllWindows()"
   ]
  }
 ],
 "metadata": {
  "kernelspec": {
   "display_name": "Python 3 (ipykernel)",
   "language": "python",
   "name": "python3"
  },
  "language_info": {
   "codemirror_mode": {
    "name": "ipython",
    "version": 3
   },
   "file_extension": ".py",
   "mimetype": "text/x-python",
   "name": "python",
   "nbconvert_exporter": "python",
   "pygments_lexer": "ipython3",
   "version": "3.11.4"
  }
 },
 "nbformat": 4,
 "nbformat_minor": 5
}
