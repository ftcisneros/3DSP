{
 "cells": [
  {
   "cell_type": "code",
   "execution_count": null,
   "id": "74bb51cd",
   "metadata": {},
   "outputs": [],
   "source": [
    "# 1. Install and import dependencies\n",
    "\n",
    "!pip install torch torchvision torchaudio\n"
   ]
  },
  {
   "cell_type": "code",
   "execution_count": null,
   "id": "0ed58ec3",
   "metadata": {},
   "outputs": [],
   "source": [
    "!pip install -U ultralytics"
   ]
  },
  {
   "cell_type": "code",
   "execution_count": null,
   "id": "5a8f0b31",
   "metadata": {},
   "outputs": [],
   "source": [
    "!git clone https://github.com/ultralytics/yolov5"
   ]
  },
  {
   "cell_type": "code",
   "execution_count": null,
   "id": "6eb469f8",
   "metadata": {
    "scrolled": true
   },
   "outputs": [],
   "source": [
    "%cd yolov5"
   ]
  },
  {
   "cell_type": "code",
   "execution_count": null,
   "id": "1a2c40c3",
   "metadata": {
    "scrolled": true
   },
   "outputs": [],
   "source": [
    "!pip install -r requirements.txt"
   ]
  },
  {
   "cell_type": "code",
   "execution_count": null,
   "id": "4fe82c92",
   "metadata": {},
   "outputs": [],
   "source": [
    "import torch\n",
    "from matplotlib import pyplot as plt\n",
    "import numpy as np\n",
    "import cv2\n",
    "import mediapipe as mp"
   ]
  },
  {
   "cell_type": "code",
   "execution_count": null,
   "id": "f8595ded",
   "metadata": {},
   "outputs": [],
   "source": [
    "!pip install backports.tarfile"
   ]
  },
  {
   "cell_type": "code",
   "execution_count": null,
   "id": "39cc27f0",
   "metadata": {},
   "outputs": [],
   "source": [
    "# 2. Load model\n",
    "\n",
    "model = torch.hub.load('ultralytics/yolov5', 'yolov5s')"
   ]
  },
  {
   "cell_type": "code",
   "execution_count": null,
   "id": "9e4942d7",
   "metadata": {
    "scrolled": true
   },
   "outputs": [],
   "source": [
    "model"
   ]
  },
  {
   "cell_type": "code",
   "execution_count": null,
   "id": "97dd7597",
   "metadata": {},
   "outputs": [],
   "source": [
    "# 3. Make detections with images\n",
    "\n",
    "img = 'https://decormatters-blog-uploads.s3.amazonaws.com/IMG_3432_268d167246.JPG' # Image used for detection\n"
   ]
  },
  {
   "cell_type": "code",
   "execution_count": null,
   "id": "becdc4b4",
   "metadata": {
    "scrolled": true
   },
   "outputs": [],
   "source": [
    "results = model(img)\n",
    "results.print()"
   ]
  },
  {
   "cell_type": "code",
   "execution_count": null,
   "id": "8eee4d6c",
   "metadata": {
    "scrolled": true
   },
   "outputs": [],
   "source": [
    "# Render image detection\n",
    "\n",
    "%matplotlib inline \n",
    "plt.imshow(np.squeeze(results.render()))\n",
    "plt.show()"
   ]
  },
  {
   "cell_type": "code",
   "execution_count": null,
   "id": "484e2b17",
   "metadata": {},
   "outputs": [],
   "source": [
    "# 4. Real time detections \n",
    "\n",
    "cap = cv2.VideoCapture('VidsNeedLabeling/3-MaleGlasses.mp4') # Replace with 0 for Mac webcam\n",
    "while cap.isOpened():\n",
    "    ret, frame = cap.read()\n",
    "    \n",
    "    # Make detections\n",
    "    results = model(frame)\n",
    "    \n",
    "    cv2.imshow('3DSP Video Capture', np.squeeze(results.render()))\n",
    "    \n",
    "    if cv2.waitKey(1) & 0xFF == ord('q'):\n",
    "        break\n",
    "        \n",
    "cap.release()\n",
    "cv2.destroyAllWindows()"
   ]
  },
  {
   "cell_type": "code",
   "execution_count": null,
   "id": "4c0955b7",
   "metadata": {},
   "outputs": [],
   "source": [
    "# 5. Train from scratch \n",
    "\n",
    "%cd yolov5"
   ]
  },
  {
   "cell_type": "code",
   "execution_count": null,
   "id": "9e7b05fd",
   "metadata": {
    "scrolled": true
   },
   "outputs": [],
   "source": [
    "!python train.py --img 320 --batch 16 --epochs 10 --data dataset.yml --weights yolov5s.pt --name yawn-detection"
   ]
  },
  {
   "cell_type": "code",
   "execution_count": null,
   "id": "40c9ef06",
   "metadata": {},
   "outputs": [],
   "source": [
    "!python train.py --img 320 --batch 16 --epochs 10 --data dataset.yml --weights runs/train/yawn-detection7/weights/best.pt --name yawn-detection5 --lr 0.001"
   ]
  },
  {
   "cell_type": "code",
   "execution_count": null,
   "id": "93df9686",
   "metadata": {},
   "outputs": [],
   "source": [
    "# 6. Use custom model\n",
    "\n",
    "!python detect.py --weights runs/train/yawn-detection4/weights/best.pt --img 320 --conf 0.01 --source data/images/train/6-FemaleNoGlasses_frame860.jpg"
   ]
  },
  {
   "cell_type": "code",
   "execution_count": null,
   "id": "ccdbf1e0",
   "metadata": {},
   "outputs": [],
   "source": [
    "from PIL import Image\n",
    "import matplotlib.pyplot as plt\n",
    "\n",
    "img_path = 'runs/detect/exp6/6-FemaleNoGlasses_frame860.jpg'  \n",
    "img = Image.open(img_path)\n",
    "\n",
    "plt.imshow(img)\n",
    "plt.axis('off')\n",
    "plt.show()\n"
   ]
  }
 ],
 "metadata": {
  "kernelspec": {
   "display_name": "Python 3 (ipykernel)",
   "language": "python",
   "name": "python3"
  },
  "language_info": {
   "codemirror_mode": {
    "name": "ipython",
    "version": 3
   },
   "file_extension": ".py",
   "mimetype": "text/x-python",
   "name": "python",
   "nbconvert_exporter": "python",
   "pygments_lexer": "ipython3",
   "version": "3.11.4"
  }
 },
 "nbformat": 4,
 "nbformat_minor": 5
}
